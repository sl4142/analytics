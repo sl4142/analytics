{
 "cells": [
  {
   "cell_type": "code",
   "execution_count": 23,
   "metadata": {},
   "outputs": [],
   "source": [
    "import yfinance as yf\n",
    "import datetime\n",
    "import requests\n",
    "import urllib.request\n",
    "import time\n",
    "import pandas as pd\n",
    "import numpy as np\n",
    "from bs4 import BeautifulSoup\n"
   ]
  },
  {
   "cell_type": "code",
   "execution_count": 25,
   "metadata": {},
   "outputs": [],
   "source": [
    "def get_data(symbols, start, end):\n",
    "    start = start.split(\"/\")\n",
    "    end = end.split(\"/\")\n",
    "    start = datetime.datetime(int(start[0]), int(start[1]), int(start[2]))\n",
    "    end = datetime.datetime(int(end[0]), int(end[1]), int(end[2]))\n",
    "    return yf.download(symbols, start=start, end=end)\n",
    "\n",
    "def get_symbols(url, tag=\"a\", attr=\"\", fromText=False):\n",
    "    response = requests.get(url)\n",
    "    if not response:\n",
    "        print(\"Status code > 400, web connection failed.\")\n",
    "        return None\n",
    "    soup = BeautifulSoup(response.text, \"html.parser\")\n",
    "    symbols = []\n",
    "    for cur in soup.findAll(tag):\n",
    "        if fromText:\n",
    "            if cur.get_text() != None:\n",
    "                symbols.append(cur.get_text())\n",
    "        else:\n",
    "            if cur.get(attr) != None:\n",
    "                symbols.append(cur.get(attr))\n",
    "    return symbols\n",
    "\n",
    "def handle_one_df(data, symbol, cols):\n",
    "    cur_col = [col for col in data.columns if symbol in col]\n",
    "    return pd.DataFrame(np.array(data[cur_col]), columns=cols, index=data[cur_col].index)\n",
    "\n",
    "def get_data_dict(symbols, data, cols, batch=10):\n",
    "    df_dict = {}\n",
    "    batch_steps = np.arange(0, len(symbols), batch)\n",
    "    for i in range(1, len(batch_steps)+1):\n",
    "        cur_symbols = symbols[batch_steps[i-1]:batch_steps[i]] if i != len(batch_steps) else symbols[batch_steps[i-1]:]\n",
    "        for symbol in cur_symbols:\n",
    "            df_dict[symbol] = handle_one_df(data, symbol, cols)\n",
    "    print(\"Finished\")\n",
    "    return df_dict"
   ]
  },
  {
   "cell_type": "code",
   "execution_count": null,
   "metadata": {},
   "outputs": [],
   "source": []
  }
 ],
 "metadata": {
  "kernelspec": {
   "display_name": "Python 3",
   "language": "python",
   "name": "python3"
  },
  "language_info": {
   "codemirror_mode": {
    "name": "ipython",
    "version": 3
   },
   "file_extension": ".py",
   "mimetype": "text/x-python",
   "name": "python",
   "nbconvert_exporter": "python",
   "pygments_lexer": "ipython3",
   "version": "3.7.3"
  }
 },
 "nbformat": 4,
 "nbformat_minor": 2
}
