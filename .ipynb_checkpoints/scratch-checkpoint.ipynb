{
 "cells": [
  {
   "cell_type": "code",
   "execution_count": 1,
   "metadata": {},
   "outputs": [],
   "source": [
    "import requests\n",
    "import urllib.request\n",
    "import time\n",
    "from bs4 import BeautifulSoup\n",
    "import re"
   ]
  },
  {
   "cell_type": "code",
   "execution_count": 2,
   "metadata": {},
   "outputs": [],
   "source": [
    "url = \"https://finance.yahoo.com/cryptocurrencies\"\n",
    "url2 =\"https://finance.yahoo.com/sector/ms_energy\"\n",
    "response = requests.get(url)"
   ]
  },
  {
   "cell_type": "code",
   "execution_count": 3,
   "metadata": {},
   "outputs": [],
   "source": [
    "soup = BeautifulSoup(response.text, \"html.parser\")"
   ]
  },
  {
   "cell_type": "code",
   "execution_count": 4,
   "metadata": {},
   "outputs": [
    {
     "data": {
      "text/plain": [
       "'Cancel'"
      ]
     },
     "execution_count": 4,
     "metadata": {},
     "output_type": "execute_result"
    }
   ],
   "source": [
    "start = 22\n",
    "end = 220\n",
    "soup.findAll('span')[2].get_text()\n",
    "# soup.findAll('a')"
   ]
  },
  {
   "cell_type": "code",
   "execution_count": 5,
   "metadata": {},
   "outputs": [
    {
     "name": "stdout",
     "output_type": "stream",
     "text": [
      "1-25 of 26 results\n",
      "1-25 of 26 results\n"
     ]
    }
   ],
   "source": [
    "str2 = \"1-25 of 26 results\"\n",
    "a = \"aaaaaaaah sdg awe ewgae 13\"\n",
    "# x = re.search(r\"\\bS\\w+\", str)\n",
    "x = re.search(r\"1-(..|...) of (..|...) results\", str2)\n",
    "print(x.string)\n",
    "print(x.group())"
   ]
  },
  {
   "cell_type": "code",
   "execution_count": 3,
   "metadata": {},
   "outputs": [],
   "source": [
    "def get_symbols_single_page(url, tag=\"a\", attr=\"\", fromText=False):\n",
    "    response = requests.get(url)\n",
    "    if not response:\n",
    "        print(\"Status code > 400, web connection failed.\")\n",
    "        return None\n",
    "    soup = BeautifulSoup(response.text, \"html.parser\")\n",
    "    symbols = []\n",
    "    for cur in soup.findAll(tag):\n",
    "        if fromText:\n",
    "            if cur.get_text() != None:\n",
    "                symbols.append(cur.get_text())\n",
    "        else:\n",
    "            if cur.get(attr) != None:\n",
    "                symbols.append(cur.get(attr))\n",
    "    return symbols"
   ]
  },
  {
   "cell_type": "code",
   "execution_count": 5,
   "metadata": {},
   "outputs": [],
   "source": [
    "def get_symbols_multiple_pages(url, tag=\"a\", attr=\"\", fromText=False):\n",
    "    response = requests.get(url)\n",
    "    if not response:\n",
    "        print(\"Status code > 400, web connection failed.\")\n",
    "        return None\n",
    "    soup = BeautifulSoup(response.text, \"html.parser\")\n",
    "    total_results = 0\n",
    "    for cur in soup.findAll('span'):\n",
    "        search = re.search(r\"1-(.|..|...) of (.|..|...|....|.....|......) results\", cur.get_text())\n",
    "        if search != None:\n",
    "            total_results = cur.get_text().split(\" \")[2]\n",
    "            print(total_results, type(total_results))\n",
    "            break\n",
    "    total_urls = int(int(total_results)/100)\n",
    "    urls = []\n",
    "    print(total_urls)\n",
    "    for i in range(total_urls):\n",
    "        urls.append(url + \"?count=100&offset=\" + str(i*100))\n",
    "    if not urls:\n",
    "        return get_symbols_single_page(url, tag, attr, fromText)\n",
    "    else:\n",
    "        symbols = []\n",
    "        for cur_url in urls:\n",
    "            symbols += get_symbols_single_page(cur_url, tag, attr, fromText)\n",
    "    return symbols\n",
    "    "
   ]
  },
  {
   "cell_type": "code",
   "execution_count": 6,
   "metadata": {},
   "outputs": [
    {
     "data": {
      "text/plain": [
       "int"
      ]
     },
     "execution_count": 6,
     "metadata": {},
     "output_type": "execute_result"
    }
   ],
   "source": [
    "type(1)"
   ]
  },
  {
   "cell_type": "code",
   "execution_count": 7,
   "metadata": {},
   "outputs": [
    {
     "name": "stdout",
     "output_type": "stream",
     "text": [
      "112 <class 'str'>\n",
      "1\n"
     ]
    },
    {
     "data": {
      "text/plain": [
       "['BTC-USD',\n",
       " 'XRP-USD',\n",
       " 'ETH-USD',\n",
       " 'BCH-USD',\n",
       " 'LTC-USD',\n",
       " 'BNB-USD',\n",
       " 'EOS-USD',\n",
       " 'USDT-USD',\n",
       " 'LINK-USD',\n",
       " 'ADA-USD',\n",
       " 'TRX-USD',\n",
       " 'XLM-USD',\n",
       " 'XMR-USD',\n",
       " 'DASH-USD',\n",
       " 'NEO-USD',\n",
       " 'IOT-USD',\n",
       " 'VEN-USD',\n",
       " 'ETC-USD',\n",
       " 'XEM-USD',\n",
       " 'ZEC-USD',\n",
       " 'XRB-USD',\n",
       " 'QTUM-USD',\n",
       " 'BTG-USD',\n",
       " 'BAT-USD',\n",
       " 'DOGE-USD',\n",
       " 'OMG-USD',\n",
       " 'DCR-USD',\n",
       " 'ZRX-USD',\n",
       " 'HSR-USD',\n",
       " 'BTM-USD',\n",
       " 'GNO-USD',\n",
       " 'LSK-USD',\n",
       " 'MCO-USD',\n",
       " 'WAVES-USD',\n",
       " 'SNT-USD',\n",
       " 'REP-USD',\n",
       " 'BTS-USD',\n",
       " 'BCN-USD',\n",
       " 'MONA-USD',\n",
       " 'KMD-USD',\n",
       " 'QASH-USD',\n",
       " 'ETP-USD',\n",
       " 'DGB-USD',\n",
       " 'XVG-USD',\n",
       " 'ICX-USD',\n",
       " 'ARDR-USD',\n",
       " 'MAID-USD',\n",
       " 'SC-USD',\n",
       " 'STORJ-USD',\n",
       " 'WTC-USD',\n",
       " 'GNT-USD',\n",
       " 'STRAT-USD',\n",
       " 'XZC-USD',\n",
       " 'LRC-USD',\n",
       " 'CVC-USD',\n",
       " 'ZEN-USD',\n",
       " 'FUN-USD',\n",
       " 'KNC-USD',\n",
       " 'XUC-USD',\n",
       " 'BNT-USD',\n",
       " 'FCT-USD',\n",
       " 'DGD-USD',\n",
       " 'ARK-USD',\n",
       " 'PAY-USD',\n",
       " 'BTCD-USD',\n",
       " 'PIVX-USD',\n",
       " 'STEEM-USD',\n",
       " 'PPT-USD',\n",
       " 'GAS-USD',\n",
       " 'ICN-USD',\n",
       " 'MTL-USD',\n",
       " 'NXT-USD',\n",
       " 'RLC-USD',\n",
       " 'VERI-USD',\n",
       " 'SYS-USD',\n",
       " 'GBYTE-USD',\n",
       " 'VTC-USD',\n",
       " 'FAIR-USD',\n",
       " 'QRL-USD',\n",
       " 'AE-USD',\n",
       " 'ANT-USD',\n",
       " 'PART-USD',\n",
       " 'SMART-USD',\n",
       " 'NXS-USD',\n",
       " 'LKK-USD',\n",
       " 'NEBL-USD',\n",
       " 'DNT-USD',\n",
       " 'DCN-USD',\n",
       " 'KIN-USD',\n",
       " 'SNGLS-USD',\n",
       " 'SUB-USD',\n",
       " 'NAV-USD',\n",
       " 'FRST-USD',\n",
       " 'BLOCK-USD',\n",
       " 'TAAS-USD',\n",
       " 'BCCOIN-USD',\n",
       " 'SALT-USD',\n",
       " 'UBQ-USD',\n",
       " 'SNM-USD',\n",
       " 'EDG-USD']"
      ]
     },
     "execution_count": 7,
     "metadata": {},
     "output_type": "execute_result"
    }
   ],
   "source": [
    "get_symbols_multiple_pages(url, attr=\"data-symbol\")\n",
    "\n"
   ]
  },
  {
   "cell_type": "code",
   "execution_count": 173,
   "metadata": {},
   "outputs": [
    {
     "name": "stdout",
     "output_type": "stream",
     "text": [
      "112\n"
     ]
    }
   ],
   "source": [
    "for cur in soup.findAll('span'):\n",
    "    search = re.search(r\"1-(.|..|...) of (.|..|...|....|.....|......) results\", cur.get_text())\n",
    "    if search != None:\n",
    "        print(cur.get_text().split(\" \")[2])\n",
    "        break"
   ]
  },
  {
   "cell_type": "code",
   "execution_count": 120,
   "metadata": {},
   "outputs": [
    {
     "data": {
      "text/plain": [
       "456"
      ]
     },
     "execution_count": 120,
     "metadata": {},
     "output_type": "execute_result"
    }
   ],
   "source": [
    "len(soup.findAll({'span':'data-reactid'}))"
   ]
  },
  {
   "cell_type": "code",
   "execution_count": 102,
   "metadata": {},
   "outputs": [
    {
     "data": {
      "text/plain": [
       "'S&P 500'"
      ]
     },
     "execution_count": 102,
     "metadata": {},
     "output_type": "execute_result"
    }
   ],
   "source": [
    "soup.findAll('a')[2].get(\"title\")"
   ]
  },
  {
   "cell_type": "code",
   "execution_count": 99,
   "metadata": {},
   "outputs": [
    {
     "data": {
      "text/plain": [
       "'S&P 5002,935.58+0.36%'"
      ]
     },
     "execution_count": 99,
     "metadata": {},
     "output_type": "execute_result"
    }
   ],
   "source": [
    "soup.findAll('a')[2].get_text()"
   ]
  },
  {
   "cell_type": "code",
   "execution_count": 55,
   "metadata": {},
   "outputs": [],
   "source": [
    "soup.findAll('a')[10].get(\"data-symbol\")"
   ]
  },
  {
   "cell_type": "code",
   "execution_count": 112,
   "metadata": {},
   "outputs": [],
   "source": [
    "# help(soup.findAll('a')[15])"
   ]
  },
  {
   "cell_type": "code",
   "execution_count": null,
   "metadata": {},
   "outputs": [],
   "source": []
  },
  {
   "cell_type": "code",
   "execution_count": null,
   "metadata": {},
   "outputs": [],
   "source": []
  },
  {
   "cell_type": "code",
   "execution_count": null,
   "metadata": {},
   "outputs": [],
   "source": []
  },
  {
   "cell_type": "code",
   "execution_count": null,
   "metadata": {},
   "outputs": [],
   "source": []
  }
 ],
 "metadata": {
  "kernelspec": {
   "display_name": "Python 3",
   "language": "python",
   "name": "python3"
  },
  "language_info": {
   "codemirror_mode": {
    "name": "ipython",
    "version": 3
   },
   "file_extension": ".py",
   "mimetype": "text/x-python",
   "name": "python",
   "nbconvert_exporter": "python",
   "pygments_lexer": "ipython3",
   "version": "3.7.3"
  }
 },
 "nbformat": 4,
 "nbformat_minor": 2
}
