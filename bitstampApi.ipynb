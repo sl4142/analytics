{
 "cells": [
  {
   "cell_type": "code",
   "execution_count": 1,
   "metadata": {},
   "outputs": [],
   "source": [
    "import requests\n",
    "import numpy as np\n",
    "import pandas as pd\n",
    "import sched, time\n",
    "import datetime\n",
    "import dataServiceUtils as ds\n",
    "from datetime import datetime, timedelta\n",
    "import matplotlib.pyplot as plt\n",
    "%matplotlib inline"
   ]
  },
  {
   "cell_type": "code",
   "execution_count": null,
   "metadata": {},
   "outputs": [],
   "source": [
    "def collectOneData(url):\n",
    "    s = requests.Session()\n",
    "    retries = Retry(total=10000,\n",
    "                backoff_factor=0.1,\n",
    "                status_forcelist=[ 500, 502, 503, 504 ])\n",
    "\n",
    "    s.mount('http://', HTTPAdapter(max_retries=retries))\n",
    "    r = s.get(url)\n",
    "    return r.json()"
   ]
  },
  {
   "cell_type": "code",
   "execution_count": 8,
   "metadata": {},
   "outputs": [
    {
     "data": {
      "text/plain": [
       "{'ask': '10609.75',\n",
       " 'bid': '10601.43',\n",
       " 'high': '10732.00000000',\n",
       " 'last': '10611.71',\n",
       " 'low': '9855.00000000',\n",
       " 'open': 10191.87,\n",
       " 'timestamp': '1563209278',\n",
       " 'volume': '15957.69400107',\n",
       " 'vwap': '10281.62'}"
      ]
     },
     "execution_count": 8,
     "metadata": {},
     "output_type": "execute_result"
    }
   ],
   "source": [
    "import requests\n",
    "from urllib3.util.retry import Retry\n",
    "from requests.adapters import HTTPAdapter\n",
    "\n",
    "s = requests.Session()\n",
    "\n",
    "retries = Retry(total=10000,\n",
    "                backoff_factor=0.1,\n",
    "                status_forcelist=[ 500, 502, 503, 504 ])\n",
    "\n",
    "s.mount('http://', HTTPAdapter(max_retries=retries))\n",
    "\n",
    "r = s.get(url)\n",
    "data = r.json()\n",
    "data"
   ]
  },
  {
   "cell_type": "code",
   "execution_count": 5,
   "metadata": {},
   "outputs": [
    {
     "data": {
      "text/plain": [
       "{'ask': '10621.15',\n",
       " 'bid': '10614.92',\n",
       " 'high': '10732.00000000',\n",
       " 'last': '10617.30',\n",
       " 'low': '9855.00000000',\n",
       " 'open': 10191.87,\n",
       " 'timestamp': '1563209233',\n",
       " 'volume': '15956.07075385',\n",
       " 'vwap': '10281.55'}"
      ]
     },
     "execution_count": 5,
     "metadata": {},
     "output_type": "execute_result"
    }
   ],
   "source": [
    "url = 'https://www.bitstamp.net/api/ticker/'\n",
    "url_hr = 'https://www.bitstamp.net/api/ticker_hour/'\n",
    "base_url = 'https://www.bitstamp.net/api/v2/ticker_hour/'\n",
    "url_hr2 = 'https://www.bitstamp.net/api/v2/ticker_hour/btcusd/'\n",
    "url_ob = 'https://www.bitstamp.net/api/order_book/'\n",
    "r = requests.get(url = url) \n",
    "data = r.json()\n",
    "data"
   ]
  },
  {
   "cell_type": "code",
   "execution_count": 5,
   "metadata": {},
   "outputs": [],
   "source": [
    "# DAY_LIMIT = 24*60\n",
    "# TICKERS = ['btc', 'ltc', 'eth', 'bch', 'xrp']\n",
    "# currPair = ['btcusd', 'ltcusd', 'ethusd', 'bchusd', 'xrpusd']\n",
    "# url_hr = 'https://www.bitstamp.net/api/ticker_hour/'\n",
    "# urls = [url_hr + curr + '/' for curr in currPair]\n",
    "# cols = ['high', 'last', 'timestamp', 'bid', 'vwap', 'volume', 'low', 'ask', 'open']"
   ]
  },
  {
   "cell_type": "code",
   "execution_count": 2,
   "metadata": {},
   "outputs": [
    {
     "name": "stdout",
     "output_type": "stream",
     "text": [
      "0 5 10 1\n",
      "1 5 10 1\n",
      "1 5 10 1\n",
      "1 5 10 1\n",
      "1 5 10 1\n",
      "0 5 10 1\n",
      "2 5 10 1\n",
      "2 5 10 1\n",
      "2 5 10 1\n",
      "2 5 10 1\n",
      "0 5 10 1\n",
      "3 5 10 1\n",
      "3 5 10 1\n",
      "3 5 10 1\n",
      "3 5 10 1\n",
      "0 5 10 1\n",
      "4 5 10 1\n",
      "4 5 10 1\n",
      "4 5 10 1\n",
      "4 5 10 1\n",
      "0 5 10 1\n",
      "5 5 10 1\n",
      "5 5 10 1\n",
      "5 5 10 1\n",
      "5 5 10 1\n",
      "201907152\n",
      "0 5 10 0\n",
      "1 5 10 0\n",
      "1 5 10 0\n",
      "1 5 10 0\n",
      "1 5 10 0\n",
      "0 5 10 0\n",
      "2 5 10 0\n",
      "2 5 10 0\n",
      "2 5 10 0\n",
      "2 5 10 0\n",
      "0 5 10 0\n",
      "3 5 10 0\n",
      "3 5 10 0\n",
      "3 5 10 0\n",
      "3 5 10 0\n",
      "0 5 10 0\n",
      "4 5 10 0\n",
      "4 5 10 0\n",
      "4 5 10 0\n",
      "4 5 10 0\n",
      "0 5 10 0\n",
      "5 5 10 0\n",
      "5 5 10 0\n",
      "5 5 10 0\n",
      "5 5 10 0\n",
      "201907151\n",
      "0 5 10 1\n",
      "1 5 10 1\n",
      "1 5 10 1\n",
      "1 5 10 1\n",
      "1 5 10 1\n",
      "0 5 10 1\n",
      "2 5 10 1\n",
      "2 5 10 1\n",
      "2 5 10 1\n",
      "2 5 10 1\n",
      "0 5 10 1\n",
      "3 5 10 1\n",
      "3 5 10 1\n",
      "3 5 10 1\n",
      "3 5 10 1\n",
      "0 5 10 1\n",
      "4 5 10 1\n",
      "4 5 10 1\n",
      "4 5 10 1\n",
      "4 5 10 1\n",
      "0 5 10 1\n",
      "5 5 10 1\n",
      "5 5 10 1\n",
      "5 5 10 1\n",
      "5 5 10 1\n",
      "201907152\n",
      "0 5 10 0\n",
      "1 5 10 0\n",
      "1 5 10 0\n",
      "1 5 10 0\n",
      "1 5 10 0\n",
      "0 5 10 0\n",
      "2 5 10 0\n",
      "2 5 10 0\n",
      "2 5 10 0\n",
      "2 5 10 0\n",
      "0 5 10 0\n",
      "3 5 10 0\n",
      "3 5 10 0\n",
      "3 5 10 0\n",
      "3 5 10 0\n",
      "0 5 10 0\n",
      "4 5 10 0\n",
      "4 5 10 0\n",
      "4 5 10 0\n",
      "4 5 10 0\n",
      "0 5 10 0\n",
      "5 5 10 0\n",
      "5 5 10 0\n",
      "5 5 10 0\n",
      "5 5 10 0\n",
      "201907151\n",
      "0 5 10 1\n",
      "1 5 10 1\n",
      "1 5 10 1\n",
      "1 5 10 1\n",
      "1 5 10 1\n",
      "0 5 10 1\n",
      "2 5 10 1\n",
      "2 5 10 1\n",
      "2 5 10 1\n",
      "2 5 10 1\n"
     ]
    },
    {
     "ename": "KeyboardInterrupt",
     "evalue": "",
     "output_type": "error",
     "traceback": [
      "\u001b[0;31m---------------------------------------------------------------------------\u001b[0m",
      "\u001b[0;31mKeyboardInterrupt\u001b[0m                         Traceback (most recent call last)",
      "\u001b[0;32m<ipython-input-2-50088b7653ee>\u001b[0m in \u001b[0;36m<module>\u001b[0;34m()\u001b[0m\n\u001b[1;32m      8\u001b[0m \u001b[0;31m#s.enter(interval, 1, ds.collectAllData, (s, urls, allData, cols, ds.TWO_HOUR_LIMIT, ds.DAY_LIMIT, interval))\u001b[0m\u001b[0;34m\u001b[0m\u001b[0;34m\u001b[0m\u001b[0m\n\u001b[1;32m      9\u001b[0m \u001b[0ms\u001b[0m\u001b[0;34m.\u001b[0m\u001b[0menter\u001b[0m\u001b[0;34m(\u001b[0m\u001b[0minterval\u001b[0m\u001b[0;34m,\u001b[0m \u001b[0;36m1\u001b[0m\u001b[0;34m,\u001b[0m \u001b[0mds\u001b[0m\u001b[0;34m.\u001b[0m\u001b[0mcollectAllData\u001b[0m\u001b[0;34m,\u001b[0m \u001b[0;34m(\u001b[0m\u001b[0ms\u001b[0m\u001b[0;34m,\u001b[0m \u001b[0murls\u001b[0m\u001b[0;34m,\u001b[0m \u001b[0mallData\u001b[0m\u001b[0;34m,\u001b[0m \u001b[0mcols\u001b[0m\u001b[0;34m,\u001b[0m \u001b[0;36m5\u001b[0m\u001b[0;34m,\u001b[0m \u001b[0;36m10\u001b[0m\u001b[0;34m,\u001b[0m \u001b[0;36m1\u001b[0m\u001b[0;34m,\u001b[0m \u001b[0minterval\u001b[0m\u001b[0;34m)\u001b[0m\u001b[0;34m)\u001b[0m\u001b[0;34m\u001b[0m\u001b[0m\n\u001b[0;32m---> 10\u001b[0;31m \u001b[0ms\u001b[0m\u001b[0;34m.\u001b[0m\u001b[0mrun\u001b[0m\u001b[0;34m(\u001b[0m\u001b[0;34m)\u001b[0m\u001b[0;34m\u001b[0m\u001b[0m\n\u001b[0m",
      "\u001b[0;32m/anaconda/lib/python3.6/sched.py\u001b[0m in \u001b[0;36mrun\u001b[0;34m(self, blocking)\u001b[0m\n\u001b[1;32m    150\u001b[0m                 \u001b[0;32mif\u001b[0m \u001b[0;32mnot\u001b[0m \u001b[0mblocking\u001b[0m\u001b[0;34m:\u001b[0m\u001b[0;34m\u001b[0m\u001b[0m\n\u001b[1;32m    151\u001b[0m                     \u001b[0;32mreturn\u001b[0m \u001b[0mtime\u001b[0m \u001b[0;34m-\u001b[0m \u001b[0mnow\u001b[0m\u001b[0;34m\u001b[0m\u001b[0m\n\u001b[0;32m--> 152\u001b[0;31m                 \u001b[0mdelayfunc\u001b[0m\u001b[0;34m(\u001b[0m\u001b[0mtime\u001b[0m \u001b[0;34m-\u001b[0m \u001b[0mnow\u001b[0m\u001b[0;34m)\u001b[0m\u001b[0;34m\u001b[0m\u001b[0m\n\u001b[0m\u001b[1;32m    153\u001b[0m             \u001b[0;32melse\u001b[0m\u001b[0;34m:\u001b[0m\u001b[0;34m\u001b[0m\u001b[0m\n\u001b[1;32m    154\u001b[0m                 \u001b[0maction\u001b[0m\u001b[0;34m(\u001b[0m\u001b[0;34m*\u001b[0m\u001b[0margument\u001b[0m\u001b[0;34m,\u001b[0m \u001b[0;34m**\u001b[0m\u001b[0mkwargs\u001b[0m\u001b[0;34m)\u001b[0m\u001b[0;34m\u001b[0m\u001b[0m\n",
      "\u001b[0;31mKeyboardInterrupt\u001b[0m: "
     ]
    }
   ],
   "source": [
    "tempUrls = [ds.base_url + curr + '/' for curr in ds.currPair]\n",
    "urls = dict(zip(ds.TICKERS, tempUrls))\n",
    "sample = ds.collectOneData(urls[ds.TICKERS[0]])\n",
    "cols = list(sample.keys())\n",
    "allData = ds.initializeDataDict(ds.TICKERS, cols)\n",
    "s = sched.scheduler(time.time, time.sleep)\n",
    "interval = 60\n",
    "#s.enter(interval, 1, ds.collectAllData, (s, urls, allData, cols, ds.TWO_HOUR_LIMIT, ds.DAY_LIMIT, interval))\n",
    "s.enter(interval, 1, ds.collectAllData, (s, urls, allData, cols, ds.TWO_HOUR_LIMIT, ds.DAY_LIMIT, 1, ds.MINUTE_INTERVAL))\n",
    "s.run()"
   ]
  },
  {
   "cell_type": "code",
   "execution_count": null,
   "metadata": {},
   "outputs": [],
   "source": []
  },
  {
   "cell_type": "code",
   "execution_count": null,
   "metadata": {},
   "outputs": [],
   "source": []
  }
 ],
 "metadata": {
  "kernelspec": {
   "display_name": "Python 3",
   "language": "python",
   "name": "python3"
  },
  "language_info": {
   "codemirror_mode": {
    "name": "ipython",
    "version": 3
   },
   "file_extension": ".py",
   "mimetype": "text/x-python",
   "name": "python",
   "nbconvert_exporter": "python",
   "pygments_lexer": "ipython3",
   "version": "3.6.1"
  }
 },
 "nbformat": 4,
 "nbformat_minor": 2
}
